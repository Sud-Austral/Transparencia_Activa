{
 "cells": [
  {
   "cell_type": "code",
   "execution_count": 1,
   "metadata": {},
   "outputs": [],
   "source": [
    "import pandas as pd"
   ]
  },
  {
   "cell_type": "code",
   "execution_count": 3,
   "metadata": {},
   "outputs": [
    {
     "name": "stderr",
     "output_type": "stream",
     "text": [
      "C:\\Users\\gusti\\anaconda3\\lib\\site-packages\\IPython\\core\\interactiveshell.py:3146: DtypeWarning: Columns (10,11) have mixed types.Specify dtype option on import or set low_memory=False.\n",
      "  has_raised = await self.run_ast_nodes(code_ast.body, cell_name,\n"
     ]
    }
   ],
   "source": [
    "    dfDato19 = pd.read_csv(r\"http://www.cplt.cl/transparencia_activa/datoabierto/archivos/TA_Nomina_beneficiarios.csv\", encoding = \"ISO-8859-1\", sep=\";\")"
   ]
  },
  {
   "cell_type": "code",
   "execution_count": 4,
   "metadata": {},
   "outputs": [],
   "source": [
    "dfDato19[\"Año\"] = dfDato19[\"fecha_acto\"].apply(lambda x: str(x)[0:4])"
   ]
  },
  {
   "cell_type": "code",
   "execution_count": 5,
   "metadata": {},
   "outputs": [],
   "source": [
    "dfDato19Clean =dfDato19.drop(columns = ['fecha_publicacion_ta', 'anyo','fecha_acto'])"
   ]
  },
  {
   "cell_type": "code",
   "execution_count": 6,
   "metadata": {},
   "outputs": [
    {
     "name": "stdout",
     "output_type": "stream",
     "text": [
      "2021\n",
      "1326133\n",
      "2020\n",
      "2158419\n",
      "2019\n",
      "2047422\n",
      "2018\n",
      "2032695\n",
      "2011\n",
      "101718\n",
      "2017\n",
      "1544494\n",
      "1900\n",
      "15309\n",
      "2012\n",
      "106693\n",
      "2010\n",
      "3658\n",
      "2016\n",
      "1172133\n",
      "2015\n",
      "670015\n",
      "2014\n",
      "197379\n",
      "2013\n",
      "89281\n",
      "2009\n",
      "24850\n",
      "2008\n",
      "22197\n",
      "2007\n",
      "192\n",
      "2005\n",
      "5439\n",
      "2006\n",
      "42\n",
      "1998\n",
      "9\n",
      "2000\n",
      "628\n",
      "2001\n",
      "38\n",
      "1909\n",
      "12\n",
      "1907\n",
      "14\n",
      "1903\n",
      "23\n",
      "1908\n",
      "12\n",
      "1902\n",
      "15\n",
      "1906\n",
      "26\n",
      "1904\n",
      "64\n",
      "1901\n",
      "14\n",
      "1905\n",
      "43\n",
      "1995\n",
      "7\n",
      "2002\n",
      "1162\n",
      "2003\n",
      "22\n",
      "2004\n",
      "48\n",
      "1918\n",
      "204\n",
      "1981\n",
      "37706\n",
      "1976\n",
      "98\n",
      "1999\n",
      "64\n",
      "1997\n",
      "501\n",
      "1996\n",
      "108\n",
      "1994\n",
      "1\n",
      "1990\n",
      "1\n",
      "1986\n",
      "2\n",
      "1982\n",
      "1\n",
      "1978\n",
      "1\n",
      "1974\n",
      "1\n",
      "1970\n",
      "1\n",
      "1966\n",
      "1\n",
      "1962\n",
      "1\n",
      "1958\n",
      "2\n",
      "1954\n",
      "1\n",
      "1950\n",
      "1\n",
      "1946\n",
      "1\n",
      "1942\n",
      "1\n",
      "1938\n",
      "1\n",
      "1934\n",
      "1\n",
      "1930\n",
      "3\n",
      "1926\n",
      "1\n",
      "1922\n",
      "1\n",
      "1914\n",
      "1\n",
      "1910\n",
      "3\n",
      "1989\n",
      "4398\n",
      "1932\n",
      "2\n",
      "1912\n",
      "3\n",
      "1991\n",
      "1\n",
      "1949\n",
      "1\n",
      "1917\n",
      "3\n",
      "1983\n",
      "1\n",
      "1992\n",
      "1\n",
      "1969\n",
      "2\n",
      "1913\n",
      "16\n",
      "1911\n",
      "3\n",
      "1920\n",
      "1\n",
      "1945\n",
      "2\n",
      "1979\n",
      "1\n",
      "1915\n",
      "157\n",
      "1916\n",
      "66\n",
      "1980\n",
      "1703\n",
      "1960\n",
      "6\n",
      "1963\n",
      "1\n",
      "1952\n",
      "1\n"
     ]
    }
   ],
   "source": [
    "for i in dfDato19Clean[\"Año\"].unique():\n",
    "    print(i)\n",
    "    print(len(dfDato19Clean[dfDato19Clean[\"Año\"]==i]))"
   ]
  },
  {
   "cell_type": "code",
   "execution_count": null,
   "metadata": {},
   "outputs": [],
   "source": [
    "dfDato19Clean"
   ]
  },
  {
   "cell_type": "code",
   "execution_count": null,
   "metadata": {},
   "outputs": [],
   "source": [
    "dfDato19Clean[\"nombre\"].unique()"
   ]
  },
  {
   "cell_type": "code",
   "execution_count": null,
   "metadata": {},
   "outputs": [],
   "source": [
    "dfDato19Clean[dfDato19Clean[\"Año\"]==\"2020\"]"
   ]
  },
  {
   "cell_type": "code",
   "execution_count": null,
   "metadata": {},
   "outputs": [],
   "source": [
    "dfGroup19 = dfDato19Clean.groupby(['organismo_nombre', 'organismo_codigo',  'Mes', 'denominacion_acto', \n",
    "           'razon_social', 'nombre_beneficiario', 'apepaterno_beneficiario', 'apematerno_beneficiario', \n",
    "            'activado', 'Año']).mean()\n",
    "dfGroup19 = dfGroup19.reset_index()"
   ]
  },
  {
   "cell_type": "code",
   "execution_count": null,
   "metadata": {},
   "outputs": [],
   "source": [
    "dfPivot19 = dfGroup19.pivot( index=[ 'organismo_nombre', 'organismo_codigo',  'Mes', 'denominacion_acto', \n",
    "           'razon_social', 'nombre_beneficiario', 'apepaterno_beneficiario', 'apematerno_beneficiario', \n",
    "            'activado', 'Año'], columns=['Mes'], values='monto')\n",
    "dfPivot19 = dfPivot19.reset_index()"
   ]
  },
  {
   "cell_type": "code",
   "execution_count": null,
   "metadata": {},
   "outputs": [],
   "source": [
    "dfPivot19[\"Año\"].unique()"
   ]
  },
  {
   "cell_type": "code",
   "execution_count": null,
   "metadata": {},
   "outputs": [],
   "source": [
    "for i in dfPivot19[\"Año\"].unique():\n",
    "    dfAux = dfPivot19[dfPivot19[\"Año\"] == i]\n",
    "    dfAux.to_excel(f\"TA_Nomina_beneficiarios/TA_Nomina_beneficiarios_{i}.xlsx\", index=False)"
   ]
  },
  {
   "cell_type": "code",
   "execution_count": null,
   "metadata": {},
   "outputs": [],
   "source": []
  }
 ],
 "metadata": {
  "kernelspec": {
   "display_name": "Python 3",
   "language": "python",
   "name": "python3"
  },
  "language_info": {
   "codemirror_mode": {
    "name": "ipython",
    "version": 3
   },
   "file_extension": ".py",
   "mimetype": "text/x-python",
   "name": "python",
   "nbconvert_exporter": "python",
   "pygments_lexer": "ipython3",
   "version": "3.8.5"
  }
 },
 "nbformat": 4,
 "nbformat_minor": 4
}
