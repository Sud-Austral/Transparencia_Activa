{
 "cells": [
  {
   "cell_type": "code",
   "execution_count": 5,
   "metadata": {},
   "outputs": [],
   "source": [
    "import pandas as pd"
   ]
  },
  {
   "cell_type": "code",
   "execution_count": 6,
   "metadata": {},
   "outputs": [],
   "source": [
    "def dataSinModificacion(url, ruta):\n",
    "    try:\n",
    "        dfDato = pd.read_csv(url, encoding = \"ISO-8859-1\", sep=\";\")\n",
    "        dfDato.to_excel(ruta, index=False)\n",
    "    except Exception as e: \n",
    "        print (f\"Hubo un error en: {url}\")\n",
    "        print (\"Código error: \"+str(e))"
   ]
  },
  {
   "cell_type": "code",
   "execution_count": 7,
   "metadata": {},
   "outputs": [],
   "source": [
    "def dataSinModificacion2(url, ruta):\n",
    "    try:\n",
    "        dfDato = pd.read_excel(url)\n",
    "        dfDato.to_excel(ruta, index=False)\n",
    "    except:\n",
    "        print (f\"Hubo un error en: {url}\")\n",
    "        print (\"Código error: \"+str(e))"
   ]
  },
  {
   "cell_type": "code",
   "execution_count": 8,
   "metadata": {},
   "outputs": [],
   "source": [
    "fuente = pd.read_excel(r\"C:\\GitHub\\Descargas\\Descargas_1.xlsx\")"
   ]
  },
  {
   "cell_type": "code",
   "execution_count": 9,
   "metadata": {},
   "outputs": [
    {
     "name": "stdout",
     "output_type": "stream",
     "text": [
      "Hubo un error en: http://www.cplt.cl/transparencia_activa/datoabierto/archivos/Tipologias%20y%20Asignaciones%20Especiales.xlsx\n",
      "Código error: <urlopen error [WinError 10060] Se produjo un error durante el intento de conexión ya que la parte conectada no respondió adecuadamente tras un periodo de tiempo, o bien se produjo un error en la conexión establecida ya que el host conectado no ha podido responder>\n",
      "Hubo un error en: http://www.cplt.cl/transparencia_activa/datoabierto/archivos/PP0004.csv\n",
      "Código error: Error tokenizing data. C error: Expected 6 fields in line 386, saw 7\n",
      "\n",
      "Hubo un error en: http://www.cplt.cl/transparencia_activa/datoabierto/archivos/PP0006.csv\n",
      "Código error: Error tokenizing data. C error: Expected 8 fields in line 44, saw 9\n",
      "\n",
      "Hubo un error en: http://www.cplt.cl/transparencia_activa/datoabierto/archivos/PP00010.csv\n",
      "Código error: <urlopen error [WinError 10060] Se produjo un error durante el intento de conexión ya que la parte conectada no respondió adecuadamente tras un periodo de tiempo, o bien se produjo un error en la conexión establecida ya que el host conectado no ha podido responder>\n",
      "Hubo un error en: http://www.cplt.cl/transparencia_activa/datoabierto/archivos/PP00011.csv\n",
      "Código error: <urlopen error [WinError 10060] Se produjo un error durante el intento de conexión ya que la parte conectada no respondió adecuadamente tras un periodo de tiempo, o bien se produjo un error en la conexión establecida ya que el host conectado no ha podido responder>\n",
      "Hubo un error en: http://www.cplt.cl/transparencia_activa/datoabierto/archivos/PP00012.csv\n",
      "Código error: <urlopen error [WinError 10060] Se produjo un error durante el intento de conexión ya que la parte conectada no respondió adecuadamente tras un periodo de tiempo, o bien se produjo un error en la conexión establecida ya que el host conectado no ha podido responder>\n",
      "Hubo un error en: http://www.cplt.cl/transparencia_activa/datoabierto/archivos/PP00013.csv\n",
      "Código error: <urlopen error [WinError 10060] Se produjo un error durante el intento de conexión ya que la parte conectada no respondió adecuadamente tras un periodo de tiempo, o bien se produjo un error en la conexión establecida ya que el host conectado no ha podido responder>\n",
      "Hubo un error en: http://www.cplt.cl/transparencia_activa/datoabierto/archivos/PP00014.csv\n",
      "Código error: <urlopen error [WinError 10060] Se produjo un error durante el intento de conexión ya que la parte conectada no respondió adecuadamente tras un periodo de tiempo, o bien se produjo un error en la conexión establecida ya que el host conectado no ha podido responder>\n",
      "Hubo un error en: http://www.cplt.cl/transparencia_activa/datoabierto/archivos/PP00015.csv\n",
      "Código error: <urlopen error [WinError 10060] Se produjo un error durante el intento de conexión ya que la parte conectada no respondió adecuadamente tras un periodo de tiempo, o bien se produjo un error en la conexión establecida ya que el host conectado no ha podido responder>\n",
      "Hubo un error en: http://www.cplt.cl/transparencia_activa/datoabierto/archivos/PP00016.csv\n",
      "Código error: <urlopen error [WinError 10060] Se produjo un error durante el intento de conexión ya que la parte conectada no respondió adecuadamente tras un periodo de tiempo, o bien se produjo un error en la conexión establecida ya que el host conectado no ha podido responder>\n",
      "Hubo un error en: http://www.cplt.cl/transparencia_activa/datoabierto/archivos/PP00017.csv\n",
      "Código error: <urlopen error [WinError 10060] Se produjo un error durante el intento de conexión ya que la parte conectada no respondió adecuadamente tras un periodo de tiempo, o bien se produjo un error en la conexión establecida ya que el host conectado no ha podido responder>\n",
      "Hubo un error en: http://www.cplt.cl/transparencia_activa/datoabierto/archivos/PP00018.csv\n",
      "Código error: <urlopen error [WinError 10060] Se produjo un error durante el intento de conexión ya que la parte conectada no respondió adecuadamente tras un periodo de tiempo, o bien se produjo un error en la conexión establecida ya que el host conectado no ha podido responder>\n",
      "Hubo un error en: http://www.cplt.cl/transparencia_activa/datoabierto/archivos/PP00019.csv\n",
      "Código error: <urlopen error [WinError 10060] Se produjo un error durante el intento de conexión ya que la parte conectada no respondió adecuadamente tras un periodo de tiempo, o bien se produjo un error en la conexión establecida ya que el host conectado no ha podido responder>\n",
      "Hubo un error en: http://www.cplt.cl/transparencia_activa/datoabierto/archivos/PP00020.csv\n",
      "Código error: <urlopen error [WinError 10060] Se produjo un error durante el intento de conexión ya que la parte conectada no respondió adecuadamente tras un periodo de tiempo, o bien se produjo un error en la conexión establecida ya que el host conectado no ha podido responder>\n",
      "Hubo un error en: http://www.cplt.cl/transparencia_activa/datoabierto/archivos/PP00021.csv\n",
      "Código error: <urlopen error [WinError 10060] Se produjo un error durante el intento de conexión ya que la parte conectada no respondió adecuadamente tras un periodo de tiempo, o bien se produjo un error en la conexión establecida ya que el host conectado no ha podido responder>\n"
     ]
    }
   ],
   "source": [
    "for i in range (len(fuente)):\n",
    "    dataSinModificacion(fuente[\"URL\"][i],fuente[\"ruta\"][i])"
   ]
  },
  {
   "cell_type": "code",
   "execution_count": null,
   "metadata": {},
   "outputs": [],
   "source": [
    "def modificacionArchivo1():\n",
    "    dfDato7 = pd.read_csv(r\"http://www.cplt.cl/transparencia_activa/datoabierto/archivos/TA_Otras_transferencias.csv\", encoding = \"ISO-8859-1\", sep=\";\")\n",
    "    dfDato13 = pd.read_csv(r\"http://www.cplt.cl/transparencia_activa/datoabierto/archivos/TA_PersonalPlanta.csv\", encoding = \"ISO-8859-1\", sep=\";\")\n",
    "    dfDato14 = pd.read_csv(r\"http://www.cplt.cl/transparencia_activa/datoabierto/archivos/TA_PersonalContrata.csv\", encoding = \"ISO-8859-1\", sep=\";\")\n",
    "    dfDato15 = pd.read_csv(r\"http://www.cplt.cl/transparencia_activa/datoabierto/archivos/TA_PersonalCodigotrabajo.csv\", encoding = \"ISO-8859-1\", sep=\";\")\n",
    "    dfDato16 = pd.read_csv(r\"http://www.cplt.cl/transparencia_activa/datoabierto/archivos/TA_PersonalContratohonorarios.csv\", encoding = \"ISO-8859-1\", sep=\";\")  \n",
    "    dfDato17 = pd.read_csv(r\"http://www.cplt.cl/transparencia_activa/datoabierto/archivos/TA_Otras_compras.csv\", encoding = \"ISO-8859-1\", sep=\";\")\n",
    "    dfDato19 = pd.read_csv(r\"http://www.cplt.cl/transparencia_activa/datoabierto/archivos/TA_Nomina_beneficiarios.csv\", encoding = \"ISO-8859-1\", sep=\";\")\n",
    "    dfDato48 = pd.read_csv(r\"http://www.cplt.cl/transparencia_activa/datoabierto/archivos/solicitudes_por_estado_360.csv\", encoding = \"ISO-8859-1\", sep=\";\")\n",
    "    \n",
    "    return dfDato7, dfDato13, dfDato14, dfDato15, dfDato16, dfDato17, dfDato19, dfDato48"
   ]
  },
  {
   "cell_type": "code",
   "execution_count": null,
   "metadata": {},
   "outputs": [],
   "source": [
    "def modificacionArchivo2():\n",
    "    dfDato7 = modificacionArchivo1()\n",
    "    dfDato13 = modificacionArchivo1()\n",
    "    dfDato14 = modificacionArchivo1()\n",
    "    dfDato15 = modificacionArchivo1()\n",
    "    dfDato16 = modificacionArchivo1()\n",
    "    dfDato17 = modificacionArchivo1()\n",
    "    dfDato19 = modificacionArchivo1()\n",
    "    dfDato48 = modificacionArchivo1()\n",
    "    dfDato7[\"Año\"] = dfDato7[\"fecha\"].apply(lambda x: str(x)[0:4])\n",
    "    dfDato13[\"Año\"] = dfDato13[\"fecha\"].apply(lambda x: str(x)[0:4])\n",
    "    dfDato14[\"Año\"] = dfDato14[\"fecha\"].apply(lambda x: str(x)[0:4])\n",
    "    dfDato15[\"Año\"] = dfDato15[\"fecha\"].apply(lambda x: str(x)[0:4])\n",
    "    dfDato16[\"Año\"] = dfDato16[\"fecha\"].apply(lambda x: str(x)[0:4])\n",
    "    dfDato17[\"Año\"] = dfDato17[\"fecha\"].apply(lambda x: str(x)[0:4])\n",
    "    dfDato19[\"Año\"] = dfDato19[\"fecha\"].apply(lambda x: str(x)[0:4])\n",
    "    dfDato48[\"Año\"] = dfDato48[\"fecha_ingreso\"].apply(lambda x: str(x)[3:7])\n",
    "    \n",
    "    return dfDato7, dfDato13, dfDato14, dfDato15, dfDato16, dfDato17, dfDato19, dfDato48    "
   ]
  },
  {
   "cell_type": "code",
   "execution_count": null,
   "metadata": {},
   "outputs": [],
   "source": [
    "def modificacionArchivo3():\n",
    "    dfDato7 = modificacionArchivo2()\n",
    "    dfDato13 = modificacionArchivo2()\n",
    "    dfDato14 = modificacionArchivo2()\n",
    "    dfDato15 = modificacionArchivo2()\n",
    "    dfDato16 = modificacionArchivo2()\n",
    "    dfDato17 = modificacionArchivo2()\n",
    "    dfDato19 = modificacionArchivo2()\n",
    "    del dfDato7['fecha_publicacion_ta']\n",
    "    del dfDato7['anyo']\n",
    "    del dfDato7['fecha']\n",
    "    del dfDato13['fecha_publicacion_ta']\n",
    "    del dfDato13['anyo']\n",
    "    del dfDato13['fecha']\n",
    "    del dfDato14['fecha_publicacion_ta']\n",
    "    del dfDato14['anyo']\n",
    "    del dfDato14['fecha']\n",
    "    del dfDato15['fecha_publicacion_ta']\n",
    "    del dfDato15['anyo']\n",
    "    del dfDato15['fecha']\n",
    "    del dfDato16['fecha_publicacion_ta']\n",
    "    del dfDato16['anyo']\n",
    "    del dfDato16['fecha']\n",
    "    del dfDato17['fecha_publicacion_ta']\n",
    "    del dfDato17['anyo']\n",
    "    del dfDato17['fecha']\n",
    "    del dfDato19['fecha_publicacion_ta']\n",
    "    del dfDato19['anyo']\n",
    "    del dfDato19['fecha']\n",
    "    \n",
    "    return dfDato7, dfDato13, dfDato14, dfDato15, dfDato16, dfDato17, dfDato19"
   ]
  },
  {
   "cell_type": "code",
   "execution_count": null,
   "metadata": {},
   "outputs": [],
   "source": [
    "def modificacionArchivo4():\n",
    "    dfDato7 = modificacionArchivo3()\n",
    "    dfDato13 = modificacionArchivo3()\n",
    "    dfDato14 = modificacionArchivo3()\n",
    "    dfDato15 = modificacionArchivo3()\n",
    "    dfDato16 = modificacionArchivo3()\n",
    "    dfDato17 = modificacionArchivo3()\n",
    "    dfDato19 = modificacionArchivo3()\n",
    "    dfGroup7 = dfDato7.groupby(['organismo_nombre', 'organismo_codigo',  'Mes', 'denominacion', \n",
    "           'Tipo Unidad monetaria', 'imputacion_presupuestaria', 'objeto_transferencia', 'razon_social',\n",
    "           'Nombre persona', 'apellido_paterno', 'apellido_materno', 'activado', 'Año']).sum()\n",
    "    dfGroup13 = dfDato13.groupby(['organismo_nombre', 'organismo_codigo',  'Mes', 'denominacion', \n",
    "           'Tipo Unidad monetaria', 'imputacion_presupuestaria', 'objeto_transferencia', 'razon_social',\n",
    "           'Nombre persona', 'apellido_paterno', 'apellido_materno', 'activado', 'Año']).sum()\n",
    "    dfGroup14 = dfDato14.groupby(['organismo_nombre', 'organismo_codigo',  'Mes', 'denominacion', \n",
    "           'Tipo Unidad monetaria', 'imputacion_presupuestaria', 'objeto_transferencia', 'razon_social',\n",
    "           'Nombre persona', 'apellido_paterno', 'apellido_materno', 'activado', 'Año']).sum()\n",
    "    dfGroup15 = dfDato15.groupby(['organismo_nombre', 'organismo_codigo',  'Mes', 'denominacion', \n",
    "           'Tipo Unidad monetaria', 'imputacion_presupuestaria', 'objeto_transferencia', 'razon_social',\n",
    "           'Nombre persona', 'apellido_paterno', 'apellido_materno', 'activado', 'Año']).sum()\n",
    "    dfGroup16 = dfDato16.groupby(['organismo_nombre', 'organismo_codigo',  'Mes', 'denominacion', \n",
    "           'Tipo Unidad monetaria', 'imputacion_presupuestaria', 'objeto_transferencia', 'razon_social',\n",
    "           'Nombre persona', 'apellido_paterno', 'apellido_materno', 'activado', 'Año']).sum()\n",
    "    dfGroup17 = dfDato17.groupby(['organismo_nombre', 'organismo_codigo',  'Mes', 'denominacion', \n",
    "           'Tipo Unidad monetaria', 'imputacion_presupuestaria', 'objeto_transferencia', 'razon_social',\n",
    "           'Nombre persona', 'apellido_paterno', 'apellido_materno', 'activado', 'Año']).sum()\n",
    "    dfGroup19 = dfDato19.groupby(['organismo_nombre', 'organismo_codigo',  'Mes', 'denominacion', \n",
    "           'Tipo Unidad monetaria', 'imputacion_presupuestaria', 'objeto_transferencia', 'razon_social',\n",
    "           'Nombre persona', 'apellido_paterno', 'apellido_materno', 'activado', 'Año']).sum()\n",
    "    \n",
    "    return dfGroup7, dfGroup13, dfGroup14, dfGroup15, dfGroup16, dfGroup17, dfGroup19"
   ]
  },
  {
   "cell_type": "code",
   "execution_count": null,
   "metadata": {},
   "outputs": [],
   "source": [
    "def modificacionArchivo5():\n",
    "    dfGroup7 = modificacionArchivo4()\n",
    "    dfGroup13 = modificacionArchivo4()\n",
    "    dfGroup14 = modificacionArchivo4()\n",
    "    dfGroup15 = modificacionArchivo4()\n",
    "    dfGroup16 = modificacionArchivo4()\n",
    "    dfGroup17 = modificacionArchivo4()\n",
    "    dfGroup19 = modificacionArchivo4()\n",
    "    dfGroup7 = dfGroup7.reset_index()\n",
    "    dfGroup13 = dfGroup13.reset_index()\n",
    "    dfGroup14 = dfGroup14.reset_index()\n",
    "    dfGroup15 = dfGroup15.reset_index()\n",
    "    dfGroup16 = dfGroup16.reset_index()\n",
    "    dfGroup17 = dfGroup17.reset_index()\n",
    "    dfGroup19 = dfGroup17.reset_index()\n",
    "    \n",
    "    return dfGroup7, dfGroup13, dfGroup14, dfGroup15, dfGroup16, dfGroup17, dfGroup19"
   ]
  },
  {
   "cell_type": "code",
   "execution_count": null,
   "metadata": {},
   "outputs": [],
   "source": [
    "def modificacionArchivo6():\n",
    "    dfGroup7 = modificacionArchivo5()\n",
    "    dfGroup13 = modificacionArchivo5()\n",
    "    dfGroup14 = modificacionArchivo5()\n",
    "    dfGroup15 = modificacionArchivo5()\n",
    "    dfGroup16 = modificacionArchivo5()\n",
    "    dfGroup17 = modificacionArchivo5()\n",
    "    dfGroup19 = modificacionArchivo5()\n",
    "    dfPivot7 = dfGroup7.pivot( index=[ 'organismo_nombre', 'organismo_codigo', 'denominacion',\n",
    "           'Tipo Unidad monetaria', 'imputacion_presupuestaria', 'objeto_transferencia', 'razon_social',\n",
    "           'Nombre persona', 'apellido_paterno', 'apellido_materno', 'activado', 'Año'], columns=['Mes'], values='monto')\n",
    "    dfPivot13 = dfGroup13.pivot( index=[ 'organismo_nombre', 'organismo_codigo', 'denominacion',\n",
    "           'Tipo Unidad monetaria', 'imputacion_presupuestaria', 'objeto_transferencia', 'razon_social',\n",
    "           'Nombre persona', 'apellido_paterno', 'apellido_materno', 'activado', 'Año'], columns=['Mes'], values='monto')\n",
    "    dfPivot14 = dfGroup14.pivot( index=[ 'organismo_nombre', 'organismo_codigo', 'denominacion',\n",
    "           'Tipo Unidad monetaria', 'imputacion_presupuestaria', 'objeto_transferencia', 'razon_social',\n",
    "           'Nombre persona', 'apellido_paterno', 'apellido_materno', 'activado', 'Año'], columns=['Mes'], values='monto')\n",
    "    dfPivot15 = dfGroup15.pivot( index=[ 'organismo_nombre', 'organismo_codigo', 'denominacion',\n",
    "           'Tipo Unidad monetaria', 'imputacion_presupuestaria', 'objeto_transferencia', 'razon_social',\n",
    "           'Nombre persona', 'apellido_paterno', 'apellido_materno', 'activado', 'Año'], columns=['Mes'], values='monto')\n",
    "    dfPivot16 = dfGroup16.pivot( index=[ 'organismo_nombre', 'organismo_codigo', 'denominacion',\n",
    "           'Tipo Unidad monetaria', 'imputacion_presupuestaria', 'objeto_transferencia', 'razon_social',\n",
    "           'Nombre persona', 'apellido_paterno', 'apellido_materno', 'activado', 'Año'], columns=['Mes'], values='monto')\n",
    "    dfPivot17 = dfGroup17.pivot( index=[ 'organismo_nombre', 'organismo_codigo', 'denominacion',\n",
    "           'Tipo Unidad monetaria', 'imputacion_presupuestaria', 'objeto_transferencia', 'razon_social',\n",
    "           'Nombre persona', 'apellido_paterno', 'apellido_materno', 'activado', 'Año'], columns=['Mes'], values='monto')\n",
    "    dfPivot19 = dfGroup19.pivot( index=[ 'organismo_nombre', 'organismo_codigo', 'denominacion',\n",
    "           'Tipo Unidad monetaria', 'imputacion_presupuestaria', 'objeto_transferencia', 'razon_social',\n",
    "           'Nombre persona', 'apellido_paterno', 'apellido_materno', 'activado', 'Año'], columns=['Mes'], values='monto')\n",
    "    \n",
    "    return dfPivot7, dfPivot13, dfPivot14, dfPivot15, dfPivot16, dfPivot17, dfPivot19"
   ]
  },
  {
   "cell_type": "code",
   "execution_count": null,
   "metadata": {},
   "outputs": [],
   "source": [
    "def modificacionArchivo7():\n",
    "    dfPivot7 = modificacionArchivo6()\n",
    "    dfPivot13 = modificacionArchivo6()\n",
    "    dfPivot14 = modificacionArchivo6()\n",
    "    dfPivot15 = modificacionArchivo6()\n",
    "    dfPivot16 = modificacionArchivo6()\n",
    "    dfPivot17 = modificacionArchivo6()\n",
    "    dfPivot19 = modificacionArchivo6()\n",
    "    dfPivot7 = dfPivot7.reset_index()\n",
    "    dfPivot13 = dfPivot13.reset_index()\n",
    "    dfPivot14 = dfPivot14.reset_index()\n",
    "    dfPivot15 = dfPivot15.reset_index()\n",
    "    dfPivot16 = dfPivot16.reset_index()\n",
    "    dfPivot17 = dfPivot17.reset_index()\n",
    "    dfPivot19 = dfPivot19.reset_index()\n",
    "    \n",
    "    return dfPivot7, dfPivot13, dfPivot14, dfPivot15, dfPivot16, dfPivot17, dfPivot19"
   ]
  },
  {
   "cell_type": "code",
   "execution_count": null,
   "metadata": {},
   "outputs": [],
   "source": [
    "def descargaArchivoModificado():\n",
    "    dfPivot7 = modificacionArchivo7()\n",
    "    dfPivot13 = modificacionArchivo7()\n",
    "    dfPivot14 = modificacionArchivo7()\n",
    "    dfPivot15 = modificacionArchivo7()\n",
    "    dfPivot16 = modificacionArchivo7()\n",
    "    dfPivot17 = modificacionArchivo7()\n",
    "    dfPivot19 = modificacionArchivo7()\n",
    "    dfDato48 = modificacionArchivo2()\n",
    "    for i in dfPivot7['Año'].unique():\n",
    "        dfAuxiliar = dfPivot7[dfPivot7['Año']== i]\n",
    "        dfAuxiliar.to_excel(f'TA/TA_Otras_transferencias_{str(i)}.xlsx', index = False)\n",
    "    for i in dfPivot13['Año'].unique():\n",
    "        dfAuxiliar = dfPivot13[dfPivot13['Año']== i]\n",
    "        dfAuxiliar.to_excel(f'TA/TA_PersonalPlanta_{str(i)}.xlsx', index = False)\n",
    "    for i in dfPivot14['Año'].unique():\n",
    "        dfAuxiliar = dfPivot14[dfPivot14['Año']== i]\n",
    "        dfAuxiliar.to_excel(f'TA/TA_PersonalContrata_{str(i)}.xlsx', index = False)\n",
    "    for i in dfPivot15['Año'].unique():\n",
    "        dfAuxiliar = dfPivot15[dfPivot15['Año']== i]\n",
    "        dfAuxiliar.to_excel(f'TA/TA_PersonalCodigotrabajo_{str(i)}.xlsx', index = False)    \n",
    "    for i in dfPivot16['Año'].unique():\n",
    "        dfAuxiliar = dfPivot16[dfPivot16['Año']== i]\n",
    "        dfAuxiliar.to_excel(f'TA/TA_PersonalContratohonorarios_{str(i)}.xlsx', index = False)\n",
    "    for i in dfPivot17['Año'].unique():\n",
    "        dfAuxiliar = dfPivot17[dfPivot17['Año']== i]\n",
    "        dfAuxiliar.to_excel(f'TA/TA_Otras_compras_{str(i)}.xlsx', index = False)  \n",
    "    for i in dfPivot19['Año'].unique():\n",
    "        dfAuxiliar = dfPivot19[dfPivot19['Año']== i]\n",
    "        dfAuxiliar.to_excel(f'TA/TA_Nomina_beneficiarios_{str(i)}.xlsx', index = False)\n",
    "    for i in dfDato48['Año'].unique():\n",
    "        dfAuxiliar = dfDato48[dfDato48['Año']== i]\n",
    "        dfAuxiliar.to_excel(f'TA/solicitudes_por_estado_360_{str(i)}.xlsx', index = False)"
   ]
  },
  {
   "cell_type": "code",
   "execution_count": null,
   "metadata": {},
   "outputs": [],
   "source": [
    "modificacionArchivo1()\n",
    "modificacionArchivo2()\n",
    "modificacionArchivo3()\n",
    "modificacionArchivo4()\n",
    "modificacionArchivo5()\n",
    "modificacionArchivo6()\n",
    "modificacionArchivo7()\n",
    "descargaArchivoModificado()"
   ]
  },
  {
   "cell_type": "code",
   "execution_count": 16,
   "metadata": {},
   "outputs": [
    {
     "ename": "MemoryError",
     "evalue": "Unable to allocate 256. KiB for an array with shape (32768,) and data type float64",
     "output_type": "error",
     "traceback": [
      "\u001b[1;31m---------------------------------------------------------------------------\u001b[0m",
      "\u001b[1;31mMemoryError\u001b[0m                               Traceback (most recent call last)",
      "\u001b[1;32m<ipython-input-16-b699b4ec0ef6>\u001b[0m in \u001b[0;36m<module>\u001b[1;34m\u001b[0m\n\u001b[0;32m      1\u001b[0m \u001b[1;31m#organismo_nombre       organismo_codigo        fecha_publicacion_ta    anyo    Mes     fecha   denominacion    monto   Tipo Unidad monetaria   imputacion_presupuestaria       objeto_transferencia    razon_social    Nombre persona  apellido_paterno        apellido_materno        activado\u001b[0m\u001b[1;33m\u001b[0m\u001b[1;33m\u001b[0m\u001b[1;33m\u001b[0m\u001b[0m\n\u001b[0;32m      2\u001b[0m \u001b[1;33m\u001b[0m\u001b[0m\n\u001b[1;32m----> 3\u001b[1;33m \u001b[0mpd\u001b[0m\u001b[1;33m.\u001b[0m\u001b[0mread_csv\u001b[0m\u001b[1;33m(\u001b[0m\u001b[1;34mr\"C:\\Users\\gusti\\Downloads\\TA_Otras_transferencias.csv\"\u001b[0m\u001b[1;33m,\u001b[0m \u001b[0mencoding\u001b[0m \u001b[1;33m=\u001b[0m \u001b[1;34m\"ISO-8859-1\"\u001b[0m\u001b[1;33m,\u001b[0m \u001b[0msep\u001b[0m\u001b[1;33m=\u001b[0m\u001b[1;34m\";\"\u001b[0m\u001b[1;33m,\u001b[0m \u001b[0musecols\u001b[0m \u001b[1;33m=\u001b[0m \u001b[1;33m[\u001b[0m\u001b[1;34m\"organismo_nombre\"\u001b[0m\u001b[1;33m,\u001b[0m \u001b[1;34m\"organismo_codigo\"\u001b[0m\u001b[1;33m,\u001b[0m \u001b[1;34m\"fecha_publicacion_ta\"\u001b[0m\u001b[1;33m,\u001b[0m \u001b[1;34m\"anyo\"\u001b[0m\u001b[1;33m,\u001b[0m \u001b[1;34m\"Mes\"\u001b[0m\u001b[1;33m,\u001b[0m \u001b[1;34m\"fecha\"\u001b[0m\u001b[1;33m,\u001b[0m \u001b[1;34m\"denominacion\"\u001b[0m\u001b[1;33m,\u001b[0m \u001b[1;34m\"monto\"\u001b[0m\u001b[1;33m,\u001b[0m \u001b[1;34m\"Tipo Unidad monetaria\"\u001b[0m\u001b[1;33m,\u001b[0m \u001b[1;34m\"imputacion_presupuestaria\"\u001b[0m\u001b[1;33m,\u001b[0m \u001b[1;34m\"objeto_transferencia\"\u001b[0m\u001b[1;33m,\u001b[0m \u001b[1;34m\"razon_social\"\u001b[0m\u001b[1;33m,\u001b[0m \u001b[1;34m\"Nombre persona\"\u001b[0m\u001b[1;33m]\u001b[0m\u001b[1;33m,\u001b[0m \u001b[0mmemory_map\u001b[0m \u001b[1;33m=\u001b[0m \u001b[1;32mFalse\u001b[0m\u001b[1;33m,\u001b[0m \u001b[0mlow_memory\u001b[0m \u001b[1;33m=\u001b[0m \u001b[1;32mTrue\u001b[0m\u001b[1;33m)\u001b[0m\u001b[1;33m\u001b[0m\u001b[1;33m\u001b[0m\u001b[0m\n\u001b[0m",
      "\u001b[1;32m~\\anaconda3\\lib\\site-packages\\pandas\\io\\parsers.py\u001b[0m in \u001b[0;36mread_csv\u001b[1;34m(filepath_or_buffer, sep, delimiter, header, names, index_col, usecols, squeeze, prefix, mangle_dupe_cols, dtype, engine, converters, true_values, false_values, skipinitialspace, skiprows, skipfooter, nrows, na_values, keep_default_na, na_filter, verbose, skip_blank_lines, parse_dates, infer_datetime_format, keep_date_col, date_parser, dayfirst, cache_dates, iterator, chunksize, compression, thousands, decimal, lineterminator, quotechar, quoting, doublequote, escapechar, comment, encoding, dialect, error_bad_lines, warn_bad_lines, delim_whitespace, low_memory, memory_map, float_precision)\u001b[0m\n\u001b[0;32m    684\u001b[0m     )\n\u001b[0;32m    685\u001b[0m \u001b[1;33m\u001b[0m\u001b[0m\n\u001b[1;32m--> 686\u001b[1;33m     \u001b[1;32mreturn\u001b[0m \u001b[0m_read\u001b[0m\u001b[1;33m(\u001b[0m\u001b[0mfilepath_or_buffer\u001b[0m\u001b[1;33m,\u001b[0m \u001b[0mkwds\u001b[0m\u001b[1;33m)\u001b[0m\u001b[1;33m\u001b[0m\u001b[1;33m\u001b[0m\u001b[0m\n\u001b[0m\u001b[0;32m    687\u001b[0m \u001b[1;33m\u001b[0m\u001b[0m\n\u001b[0;32m    688\u001b[0m \u001b[1;33m\u001b[0m\u001b[0m\n",
      "\u001b[1;32m~\\anaconda3\\lib\\site-packages\\pandas\\io\\parsers.py\u001b[0m in \u001b[0;36m_read\u001b[1;34m(filepath_or_buffer, kwds)\u001b[0m\n\u001b[0;32m    456\u001b[0m \u001b[1;33m\u001b[0m\u001b[0m\n\u001b[0;32m    457\u001b[0m     \u001b[1;32mtry\u001b[0m\u001b[1;33m:\u001b[0m\u001b[1;33m\u001b[0m\u001b[1;33m\u001b[0m\u001b[0m\n\u001b[1;32m--> 458\u001b[1;33m         \u001b[0mdata\u001b[0m \u001b[1;33m=\u001b[0m \u001b[0mparser\u001b[0m\u001b[1;33m.\u001b[0m\u001b[0mread\u001b[0m\u001b[1;33m(\u001b[0m\u001b[0mnrows\u001b[0m\u001b[1;33m)\u001b[0m\u001b[1;33m\u001b[0m\u001b[1;33m\u001b[0m\u001b[0m\n\u001b[0m\u001b[0;32m    459\u001b[0m     \u001b[1;32mfinally\u001b[0m\u001b[1;33m:\u001b[0m\u001b[1;33m\u001b[0m\u001b[1;33m\u001b[0m\u001b[0m\n\u001b[0;32m    460\u001b[0m         \u001b[0mparser\u001b[0m\u001b[1;33m.\u001b[0m\u001b[0mclose\u001b[0m\u001b[1;33m(\u001b[0m\u001b[1;33m)\u001b[0m\u001b[1;33m\u001b[0m\u001b[1;33m\u001b[0m\u001b[0m\n",
      "\u001b[1;32m~\\anaconda3\\lib\\site-packages\\pandas\\io\\parsers.py\u001b[0m in \u001b[0;36mread\u001b[1;34m(self, nrows)\u001b[0m\n\u001b[0;32m   1194\u001b[0m     \u001b[1;32mdef\u001b[0m \u001b[0mread\u001b[0m\u001b[1;33m(\u001b[0m\u001b[0mself\u001b[0m\u001b[1;33m,\u001b[0m \u001b[0mnrows\u001b[0m\u001b[1;33m=\u001b[0m\u001b[1;32mNone\u001b[0m\u001b[1;33m)\u001b[0m\u001b[1;33m:\u001b[0m\u001b[1;33m\u001b[0m\u001b[1;33m\u001b[0m\u001b[0m\n\u001b[0;32m   1195\u001b[0m         \u001b[0mnrows\u001b[0m \u001b[1;33m=\u001b[0m \u001b[0m_validate_integer\u001b[0m\u001b[1;33m(\u001b[0m\u001b[1;34m\"nrows\"\u001b[0m\u001b[1;33m,\u001b[0m \u001b[0mnrows\u001b[0m\u001b[1;33m)\u001b[0m\u001b[1;33m\u001b[0m\u001b[1;33m\u001b[0m\u001b[0m\n\u001b[1;32m-> 1196\u001b[1;33m         \u001b[0mret\u001b[0m \u001b[1;33m=\u001b[0m \u001b[0mself\u001b[0m\u001b[1;33m.\u001b[0m\u001b[0m_engine\u001b[0m\u001b[1;33m.\u001b[0m\u001b[0mread\u001b[0m\u001b[1;33m(\u001b[0m\u001b[0mnrows\u001b[0m\u001b[1;33m)\u001b[0m\u001b[1;33m\u001b[0m\u001b[1;33m\u001b[0m\u001b[0m\n\u001b[0m\u001b[0;32m   1197\u001b[0m \u001b[1;33m\u001b[0m\u001b[0m\n\u001b[0;32m   1198\u001b[0m         \u001b[1;31m# May alter columns / col_dict\u001b[0m\u001b[1;33m\u001b[0m\u001b[1;33m\u001b[0m\u001b[1;33m\u001b[0m\u001b[0m\n",
      "\u001b[1;32m~\\anaconda3\\lib\\site-packages\\pandas\\io\\parsers.py\u001b[0m in \u001b[0;36mread\u001b[1;34m(self, nrows)\u001b[0m\n\u001b[0;32m   2153\u001b[0m     \u001b[1;32mdef\u001b[0m \u001b[0mread\u001b[0m\u001b[1;33m(\u001b[0m\u001b[0mself\u001b[0m\u001b[1;33m,\u001b[0m \u001b[0mnrows\u001b[0m\u001b[1;33m=\u001b[0m\u001b[1;32mNone\u001b[0m\u001b[1;33m)\u001b[0m\u001b[1;33m:\u001b[0m\u001b[1;33m\u001b[0m\u001b[1;33m\u001b[0m\u001b[0m\n\u001b[0;32m   2154\u001b[0m         \u001b[1;32mtry\u001b[0m\u001b[1;33m:\u001b[0m\u001b[1;33m\u001b[0m\u001b[1;33m\u001b[0m\u001b[0m\n\u001b[1;32m-> 2155\u001b[1;33m             \u001b[0mdata\u001b[0m \u001b[1;33m=\u001b[0m \u001b[0mself\u001b[0m\u001b[1;33m.\u001b[0m\u001b[0m_reader\u001b[0m\u001b[1;33m.\u001b[0m\u001b[0mread\u001b[0m\u001b[1;33m(\u001b[0m\u001b[0mnrows\u001b[0m\u001b[1;33m)\u001b[0m\u001b[1;33m\u001b[0m\u001b[1;33m\u001b[0m\u001b[0m\n\u001b[0m\u001b[0;32m   2156\u001b[0m         \u001b[1;32mexcept\u001b[0m \u001b[0mStopIteration\u001b[0m\u001b[1;33m:\u001b[0m\u001b[1;33m\u001b[0m\u001b[1;33m\u001b[0m\u001b[0m\n\u001b[0;32m   2157\u001b[0m             \u001b[1;32mif\u001b[0m \u001b[0mself\u001b[0m\u001b[1;33m.\u001b[0m\u001b[0m_first_chunk\u001b[0m\u001b[1;33m:\u001b[0m\u001b[1;33m\u001b[0m\u001b[1;33m\u001b[0m\u001b[0m\n",
      "\u001b[1;32mpandas\\_libs\\parsers.pyx\u001b[0m in \u001b[0;36mpandas._libs.parsers.TextReader.read\u001b[1;34m()\u001b[0m\n",
      "\u001b[1;32mpandas\\_libs\\parsers.pyx\u001b[0m in \u001b[0;36mpandas._libs.parsers.TextReader._read_low_memory\u001b[1;34m()\u001b[0m\n",
      "\u001b[1;32mpandas\\_libs\\parsers.pyx\u001b[0m in \u001b[0;36mpandas._libs.parsers.TextReader._read_rows\u001b[1;34m()\u001b[0m\n",
      "\u001b[1;32mpandas\\_libs\\parsers.pyx\u001b[0m in \u001b[0;36mpandas._libs.parsers.TextReader._convert_column_data\u001b[1;34m()\u001b[0m\n",
      "\u001b[1;32mpandas\\_libs\\parsers.pyx\u001b[0m in \u001b[0;36mpandas._libs.parsers._maybe_upcast\u001b[1;34m()\u001b[0m\n",
      "\u001b[1;31mMemoryError\u001b[0m: Unable to allocate 256. KiB for an array with shape (32768,) and data type float64"
     ]
    }
   ],
   "source": [
    "#organismo_nombre\torganismo_codigo\tfecha_publicacion_ta\tanyo\tMes\tfecha\tdenominacion\tmonto\tTipo Unidad monetaria\timputacion_presupuestaria\tobjeto_transferencia\trazon_social\tNombre persona\tapellido_paterno\tapellido_materno\tactivado\n",
    "\n",
    "pd.read_csv(r\"C:\\Users\\gusti\\Downloads\\TA_Otras_transferencias.csv\", encoding = \"ISO-8859-1\", sep=\";\", usecols = [\"organismo_nombre\", \"organismo_codigo\", \"fecha_publicacion_ta\", \"anyo\", \"Mes\", \"fecha\", \"denominacion\", \"monto\", \"Tipo Unidad monetaria\", \"imputacion_presupuestaria\", \"objeto_transferencia\", \"razon_social\", \"Nombre persona\"], memory_map = False, low_memory = True)"
   ]
  },
  {
   "cell_type": "code",
   "execution_count": 4,
   "metadata": {},
   "outputs": [
    {
     "data": {
      "text/plain": [
       "288"
      ]
     },
     "execution_count": 4,
     "metadata": {},
     "output_type": "execute_result"
    }
   ],
   "source": [
    "import gc\n",
    "\n",
    "gc.collect()"
   ]
  },
  {
   "cell_type": "code",
   "execution_count": null,
   "metadata": {},
   "outputs": [],
   "source": []
  }
 ],
 "metadata": {
  "kernelspec": {
   "display_name": "Python 3",
   "language": "python",
   "name": "python3"
  },
  "language_info": {
   "codemirror_mode": {
    "name": "ipython",
    "version": 3
   },
   "file_extension": ".py",
   "mimetype": "text/x-python",
   "name": "python",
   "nbconvert_exporter": "python",
   "pygments_lexer": "ipython3",
   "version": "3.8.5"
  }
 },
 "nbformat": 4,
 "nbformat_minor": 4
}
