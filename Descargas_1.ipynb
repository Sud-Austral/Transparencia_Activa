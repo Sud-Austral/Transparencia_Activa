{
 "cells": [
  {
   "cell_type": "code",
   "execution_count": 1,
   "metadata": {},
   "outputs": [],
   "source": [
    "import pandas as pd"
   ]
  },
  {
   "cell_type": "code",
   "execution_count": 10,
   "metadata": {},
   "outputs": [],
   "source": [
    "def dataSinModificacion(url, ruta):\n",
    "    try:\n",
    "        dfDato = pd.read_csv(url, encoding = \"ISO-8859-1\", sep = \";\")\n",
    "        dfDato.to_excel(ruta, index=False)\n",
    "    except Exception as e: \n",
    "        print (f\"Hubo un error en: {url}\")\n",
    "        print (\"Código error: \"+str(e))"
   ]
  },
  {
   "cell_type": "code",
   "execution_count": 6,
   "metadata": {},
   "outputs": [
    {
     "name": "stdout",
     "output_type": "stream",
     "text": [
      "Hubo un error\n",
      "Código error: <urlopen error [WinError 10060] Se produjo un error durante el intento de conexión ya que la parte conectada no respondió adecuadamente tras un periodo de tiempo, o bien se produjo un error en la conexión establecida ya que el host conectado no ha podido responder>\n"
     ]
    }
   ],
   "source": [
    "try:\n",
    "    df = pd.read_excel(r\"http://www.cplt.cl/transparencia_activa/datoabierto/archivos/Tipologias%20y%20Asignaciones%20Especiales.xlsx\")\n",
    "    df.to_excel(\"Asignaciones_Especiales\")\n",
    "except Exception as e:\n",
    "    print (\"Código error: \"+str(e))"
   ]
  },
  {
   "cell_type": "code",
   "execution_count": 11,
   "metadata": {},
   "outputs": [],
   "source": [
    "fuente = pd.read_excel(r\"C:\\GitHub\\Descargas\\Descargas_1.xlsx\")"
   ]
  },
  {
   "cell_type": "code",
   "execution_count": 12,
   "metadata": {},
   "outputs": [
    {
     "name": "stdout",
     "output_type": "stream",
     "text": [
      "Hubo un error en: http://www.cplt.cl/transparencia_activa/datoabierto/archivos/Tipologias%20y%20Asignaciones%20Especiales.xlsx\n",
      "Código error: <urlopen error [WinError 10060] Se produjo un error durante el intento de conexión ya que la parte conectada no respondió adecuadamente tras un periodo de tiempo, o bien se produjo un error en la conexión establecida ya que el host conectado no ha podido responder>\n",
      "Hubo un error en: http://www.cplt.cl/transparencia_activa/datoabierto/archivos/PP0004.csv\n",
      "Código error: Error tokenizing data. C error: Expected 6 fields in line 386, saw 7\n",
      "\n",
      "Hubo un error en: http://www.cplt.cl/transparencia_activa/datoabierto/archivos/PP0006.csv\n",
      "Código error: Error tokenizing data. C error: Expected 8 fields in line 44, saw 9\n",
      "\n",
      "Hubo un error en: http://www.cplt.cl/transparencia_activa/datoabierto/archivos/PP00010.csv\n",
      "Código error: <urlopen error [WinError 10060] Se produjo un error durante el intento de conexión ya que la parte conectada no respondió adecuadamente tras un periodo de tiempo, o bien se produjo un error en la conexión establecida ya que el host conectado no ha podido responder>\n",
      "Hubo un error en: http://www.cplt.cl/transparencia_activa/datoabierto/archivos/PP00011.csv\n",
      "Código error: <urlopen error [WinError 10060] Se produjo un error durante el intento de conexión ya que la parte conectada no respondió adecuadamente tras un periodo de tiempo, o bien se produjo un error en la conexión establecida ya que el host conectado no ha podido responder>\n",
      "Hubo un error en: http://www.cplt.cl/transparencia_activa/datoabierto/archivos/PP00012.csv\n",
      "Código error: <urlopen error [WinError 10060] Se produjo un error durante el intento de conexión ya que la parte conectada no respondió adecuadamente tras un periodo de tiempo, o bien se produjo un error en la conexión establecida ya que el host conectado no ha podido responder>\n",
      "Hubo un error en: http://www.cplt.cl/transparencia_activa/datoabierto/archivos/PP00013.csv\n",
      "Código error: <urlopen error [WinError 10060] Se produjo un error durante el intento de conexión ya que la parte conectada no respondió adecuadamente tras un periodo de tiempo, o bien se produjo un error en la conexión establecida ya que el host conectado no ha podido responder>\n",
      "Hubo un error en: http://www.cplt.cl/transparencia_activa/datoabierto/archivos/PP00014.csv\n",
      "Código error: <urlopen error [WinError 10060] Se produjo un error durante el intento de conexión ya que la parte conectada no respondió adecuadamente tras un periodo de tiempo, o bien se produjo un error en la conexión establecida ya que el host conectado no ha podido responder>\n",
      "Hubo un error en: http://www.cplt.cl/transparencia_activa/datoabierto/archivos/PP00015.csv\n",
      "Código error: <urlopen error [WinError 10060] Se produjo un error durante el intento de conexión ya que la parte conectada no respondió adecuadamente tras un periodo de tiempo, o bien se produjo un error en la conexión establecida ya que el host conectado no ha podido responder>\n",
      "Hubo un error en: http://www.cplt.cl/transparencia_activa/datoabierto/archivos/PP00016.csv\n",
      "Código error: <urlopen error [WinError 10060] Se produjo un error durante el intento de conexión ya que la parte conectada no respondió adecuadamente tras un periodo de tiempo, o bien se produjo un error en la conexión establecida ya que el host conectado no ha podido responder>\n",
      "Hubo un error en: http://www.cplt.cl/transparencia_activa/datoabierto/archivos/PP00017.csv\n",
      "Código error: <urlopen error [WinError 10060] Se produjo un error durante el intento de conexión ya que la parte conectada no respondió adecuadamente tras un periodo de tiempo, o bien se produjo un error en la conexión establecida ya que el host conectado no ha podido responder>\n",
      "Hubo un error en: http://www.cplt.cl/transparencia_activa/datoabierto/archivos/PP00018.csv\n",
      "Código error: <urlopen error [WinError 10060] Se produjo un error durante el intento de conexión ya que la parte conectada no respondió adecuadamente tras un periodo de tiempo, o bien se produjo un error en la conexión establecida ya que el host conectado no ha podido responder>\n",
      "Hubo un error en: http://www.cplt.cl/transparencia_activa/datoabierto/archivos/PP00019.csv\n",
      "Código error: <urlopen error [WinError 10060] Se produjo un error durante el intento de conexión ya que la parte conectada no respondió adecuadamente tras un periodo de tiempo, o bien se produjo un error en la conexión establecida ya que el host conectado no ha podido responder>\n",
      "Hubo un error en: http://www.cplt.cl/transparencia_activa/datoabierto/archivos/PP00020.csv\n",
      "Código error: <urlopen error [WinError 10060] Se produjo un error durante el intento de conexión ya que la parte conectada no respondió adecuadamente tras un periodo de tiempo, o bien se produjo un error en la conexión establecida ya que el host conectado no ha podido responder>\n",
      "Hubo un error en: http://www.cplt.cl/transparencia_activa/datoabierto/archivos/PP00021.csv\n",
      "Código error: <urlopen error [WinError 10060] Se produjo un error durante el intento de conexión ya que la parte conectada no respondió adecuadamente tras un periodo de tiempo, o bien se produjo un error en la conexión establecida ya que el host conectado no ha podido responder>\n"
     ]
    }
   ],
   "source": [
    "for i in range (len(fuente)):\n",
    "    dataSinModificacion(fuente[\"URL\"][i],fuente[\"ruta\"][i])"
   ]
  },
  {
   "cell_type": "code",
   "execution_count": null,
   "metadata": {},
   "outputs": [],
   "source": []
  }
 ],
 "metadata": {
  "kernelspec": {
   "display_name": "Python 3",
   "language": "python",
   "name": "python3"
  },
  "language_info": {
   "codemirror_mode": {
    "name": "ipython",
    "version": 3
   },
   "file_extension": ".py",
   "mimetype": "text/x-python",
   "name": "python",
   "nbconvert_exporter": "python",
   "pygments_lexer": "ipython3",
   "version": "3.8.5"
  }
 },
 "nbformat": 4,
 "nbformat_minor": 4
}
