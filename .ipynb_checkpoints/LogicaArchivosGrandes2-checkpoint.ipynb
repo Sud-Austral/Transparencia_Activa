{
 "cells": [
  {
   "cell_type": "code",
   "execution_count": null,
   "metadata": {},
   "outputs": [],
   "source": [
    "import pandas as pd"
   ]
  },
  {
   "cell_type": "code",
   "execution_count": null,
   "metadata": {},
   "outputs": [],
   "source": [
    "dfDato13 = pd.read_csv(r\"http://www.cplt.cl/transparencia_activa/datoabierto/archivos/TA_PersonalPlanta.csv\", encoding = \"ISO-8859-1\", sep=\";\")"
   ]
  },
  {
   "cell_type": "code",
   "execution_count": null,
   "metadata": {},
   "outputs": [],
   "source": [
    "dfDato13[\"Año\"] = dfDato13[\"fecha_ingreso\"].apply(lambda x: str(x)[6:10])"
   ]
  },
  {
   "cell_type": "code",
   "execution_count": null,
   "metadata": {},
   "outputs": [],
   "source": [
    "dfDato13Clean =dfDato13.drop(columns = ['fecha_publicacion', 'anyo','fecha_ingreso'])"
   ]
  },
  {
   "cell_type": "code",
   "execution_count": null,
   "metadata": {},
   "outputs": [],
   "source": [
    "for i in dfDato13Clean[\"Año\"].unique():\n",
    "    dfAux = dfDato13Clean[dfDato13Clean[\"Año\"] == i]\n",
    "    dfAux.to_excel(f\"TA_PersonalPlanta/TA_PersonalPlanta_{i}.xlsx\", index=False)"
   ]
  },
  {
   "cell_type": "code",
   "execution_count": null,
   "metadata": {},
   "outputs": [],
   "source": []
  }
 ],
 "metadata": {
  "kernelspec": {
   "display_name": "Python 3",
   "language": "python",
   "name": "python3"
  },
  "language_info": {
   "codemirror_mode": {
    "name": "ipython",
    "version": 3
   },
   "file_extension": ".py",
   "mimetype": "text/x-python",
   "name": "python",
   "nbconvert_exporter": "python",
   "pygments_lexer": "ipython3",
   "version": "3.8.5"
  }
 },
 "nbformat": 4,
 "nbformat_minor": 4
}
