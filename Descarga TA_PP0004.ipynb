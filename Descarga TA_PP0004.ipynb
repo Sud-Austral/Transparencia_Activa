{
 "cells": [
  {
   "cell_type": "code",
   "execution_count": 1,
   "metadata": {},
   "outputs": [],
   "source": [
    "import pandas as pd\n",
    "import functools"
   ]
  },
  {
   "cell_type": "code",
   "execution_count": 2,
   "metadata": {},
   "outputs": [],
   "source": [
    "f = open (r\"C:\\Users\\gusti\\Downloads\\PP0004.csv\",'r')\n",
    "mensaje = f.read()"
   ]
  },
  {
   "cell_type": "code",
   "execution_count": 3,
   "metadata": {},
   "outputs": [],
   "source": [
    "filas = mensaje.split(\"\\n\")"
   ]
  },
  {
   "cell_type": "code",
   "execution_count": 4,
   "metadata": {},
   "outputs": [
    {
     "name": "stdout",
     "output_type": "stream",
     "text": [
      "\n"
     ]
    }
   ],
   "source": [
    "diccionario = {}\n",
    "salida = []\n",
    "for fila in filas[1:]:\n",
    "    datos = fila.split(\";\")\n",
    "    try:\n",
    "        diccionario[\"Código del organismo\"] = datos[0]\n",
    "        diccionario[\"Nombre del organismo\"] = datos[1]\n",
    "        diccionario[\"Año informado\"] = datos[2]\n",
    "        diccionario[\"Trimestre informado\"] = datos[3]\n",
    "        diccionario[\"Unidades u órganos internos\"] = datos[4]\n",
    "        diccionario[\"Facultades, funciones y atribuciones\"] = functools.reduce(lambda a, b: a+b, datos[5:])\n",
    "        salida.append(diccionario.copy())\n",
    "    except:\n",
    "        print(fila)\n",
    "dfFinal = pd.DataFrame(salida) \n",
    "dfFinal.to_excel(\"TA/PP0004.xlsx\", index = False)"
   ]
  },
  {
   "cell_type": "code",
   "execution_count": null,
   "metadata": {},
   "outputs": [],
   "source": []
  }
 ],
 "metadata": {
  "kernelspec": {
   "display_name": "Python 3",
   "language": "python",
   "name": "python3"
  },
  "language_info": {
   "codemirror_mode": {
    "name": "ipython",
    "version": 3
   },
   "file_extension": ".py",
   "mimetype": "text/x-python",
   "name": "python",
   "nbconvert_exporter": "python",
   "pygments_lexer": "ipython3",
   "version": "3.8.5"
  }
 },
 "nbformat": 4,
 "nbformat_minor": 4
}
