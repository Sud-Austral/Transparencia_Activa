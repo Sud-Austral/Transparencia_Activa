{
 "cells": [
  {
   "cell_type": "code",
   "execution_count": 1,
   "metadata": {},
   "outputs": [],
   "source": [
    "import pandas as pd"
   ]
  },
  {
   "cell_type": "code",
   "execution_count": null,
   "metadata": {},
   "outputs": [],
   "source": [
    "salida = []\n",
    "for i in range(2014,2022):\n",
    "    for j in range(1,5):\n",
    "        try:\n",
    "            url = f\"https://www.infolobby.cl/DatosAbiertos/Catalogos/VirtuosoLobby/Datasets/{i}/{j}/activos/csv\"\n",
    "            dfOut = pd.read_csv(url)\n",
    "            #dfOut.to_excel(f\"activos_{i}_{j}.xlsx\", index = False)\n",
    "            salida.append(dfOut.copy())\n",
    "        except:\n",
    "            print(url)\n",
    "dfFinal = pd.concat(salida)\n",
    "dfFinal.to_csv(\"activos_consolidado.csv\", index = False)"
   ]
  },
  {
   "cell_type": "code",
   "execution_count": 2,
   "metadata": {},
   "outputs": [],
   "source": [
    "salida2 = []\n",
    "for i in range(2014,2022):\n",
    "    for j in range(1,5):\n",
    "        try:\n",
    "            url = f\"https://www.infolobby.cl/DatosAbiertos/Catalogos/VirtuosoLobby/Datasets/{i}/{j}/pasivos/csv\"\n",
    "            dfOut = pd.read_csv(url)\n",
    "            #dfOut.to_excel(f\"activos_{i}_{j}.xlsx\", index = False)\n",
    "            salida2.append(dfOut.copy())\n",
    "        except:\n",
    "            print(url)\n",
    "dfFinal = pd.concat(salida2)\n",
    "dfFinal.to_csv(\"pasivos_consolidado.csv\", index = False)"
   ]
  },
  {
   "cell_type": "code",
   "execution_count": 3,
   "metadata": {},
   "outputs": [
    {
     "name": "stdout",
     "output_type": "stream",
     "text": [
      "https://www.infolobby.cl/DatosAbiertos/Catalogos/VirtuosoLobby/Datasets/2014/1/audiencias/csv\n",
      "https://www.infolobby.cl/DatosAbiertos/Catalogos/VirtuosoLobby/Datasets/2014/2/audiencias/csv\n",
      "https://www.infolobby.cl/DatosAbiertos/Catalogos/VirtuosoLobby/Datasets/2014/3/audiencias/csv\n",
      "https://www.infolobby.cl/DatosAbiertos/Catalogos/VirtuosoLobby/Datasets/2021/4/audiencias/csv\n"
     ]
    }
   ],
   "source": [
    "salida3 = []\n",
    "for i in range(2014,2022):\n",
    "    for j in range(1,5):\n",
    "        try:\n",
    "            url = f\"https://www.infolobby.cl/DatosAbiertos/Catalogos/VirtuosoLobby/Datasets/{i}/{j}/audiencias/csv\"\n",
    "            dfOut = pd.read_csv(url)\n",
    "            #dfOut.to_excel(f\"activos_{i}_{j}.xlsx\", index = False)\n",
    "            salida3.append(dfOut.copy())\n",
    "        except:\n",
    "            print(url)\n",
    "dfFinal = pd.concat(salida3)\n",
    "dfFinal.to_csv(\"audiencias_consolidado.csv\", index = False)"
   ]
  },
  {
   "cell_type": "code",
   "execution_count": 4,
   "metadata": {},
   "outputs": [
    {
     "name": "stdout",
     "output_type": "stream",
     "text": [
      "https://www.infolobby.cl/DatosAbiertos/Catalogos/VirtuosoLobby/Datasets/2014/1/datosAudiencia/csv\n",
      "https://www.infolobby.cl/DatosAbiertos/Catalogos/VirtuosoLobby/Datasets/2014/2/datosAudiencia/csv\n",
      "https://www.infolobby.cl/DatosAbiertos/Catalogos/VirtuosoLobby/Datasets/2014/3/datosAudiencia/csv\n",
      "https://www.infolobby.cl/DatosAbiertos/Catalogos/VirtuosoLobby/Datasets/2021/4/datosAudiencia/csv\n"
     ]
    }
   ],
   "source": [
    "salida4 = []\n",
    "for i in range(2014,2022):\n",
    "    for j in range(1,5):\n",
    "        try:\n",
    "            url = f\"https://www.infolobby.cl/DatosAbiertos/Catalogos/VirtuosoLobby/Datasets/{i}/{j}/datosAudiencia/csv\"\n",
    "            dfOut = pd.read_csv(url)\n",
    "            #dfOut.to_excel(f\"activos_{i}_{j}.xlsx\", index = False)\n",
    "            salida4.append(dfOut.copy())\n",
    "        except:\n",
    "            print(url)\n",
    "dfFinal = pd.concat(salida4)\n",
    "dfFinal.to_csv(\"datosAudiencia_consolidado.csv\", index = False)"
   ]
  },
  {
   "cell_type": "code",
   "execution_count": 5,
   "metadata": {},
   "outputs": [
    {
     "name": "stdout",
     "output_type": "stream",
     "text": [
      "https://www.infolobby.cl/DatosAbiertos/Catalogos/VirtuosoLobby/Datasets/2014/1/asistenciasActivos/csv\n",
      "https://www.infolobby.cl/DatosAbiertos/Catalogos/VirtuosoLobby/Datasets/2014/2/asistenciasActivos/csv\n",
      "https://www.infolobby.cl/DatosAbiertos/Catalogos/VirtuosoLobby/Datasets/2014/3/asistenciasActivos/csv\n",
      "https://www.infolobby.cl/DatosAbiertos/Catalogos/VirtuosoLobby/Datasets/2021/4/asistenciasActivos/csv\n"
     ]
    }
   ],
   "source": [
    "salida5 = []\n",
    "for i in range(2014,2022):\n",
    "    for j in range(1,5):\n",
    "        try:\n",
    "            url = f\"https://www.infolobby.cl/DatosAbiertos/Catalogos/VirtuosoLobby/Datasets/{i}/{j}/asistenciasActivos/csv\"\n",
    "            dfOut = pd.read_csv(url)\n",
    "            #dfOut.to_excel(f\"activos_{i}_{j}.xlsx\", index = False)\n",
    "            salida5.append(dfOut.copy())\n",
    "        except:\n",
    "            print(url)\n",
    "dfFinal = pd.concat(salida5)\n",
    "dfFinal.to_csv(\"asistenciasActivos_consolidado.csv\", index = False)"
   ]
  },
  {
   "cell_type": "code",
   "execution_count": 6,
   "metadata": {},
   "outputs": [
    {
     "name": "stdout",
     "output_type": "stream",
     "text": [
      "https://www.infolobby.cl/DatosAbiertos/Catalogos/VirtuosoLobby/Datasets/2014/1/asistenciasPasivos/csv\n",
      "https://www.infolobby.cl/DatosAbiertos/Catalogos/VirtuosoLobby/Datasets/2014/2/asistenciasPasivos/csv\n",
      "https://www.infolobby.cl/DatosAbiertos/Catalogos/VirtuosoLobby/Datasets/2014/3/asistenciasPasivos/csv\n",
      "https://www.infolobby.cl/DatosAbiertos/Catalogos/VirtuosoLobby/Datasets/2021/4/asistenciasPasivos/csv\n"
     ]
    }
   ],
   "source": [
    "salida6 = []\n",
    "for i in range(2014,2022):\n",
    "    for j in range(1,5):\n",
    "        try:\n",
    "            url = f\"https://www.infolobby.cl/DatosAbiertos/Catalogos/VirtuosoLobby/Datasets/{i}/{j}/asistenciasPasivos/csv\"\n",
    "            dfOut = pd.read_csv(url)\n",
    "            #dfOut.to_excel(f\"activos_{i}_{j}.xlsx\", index = False)\n",
    "            salida6.append(dfOut.copy())\n",
    "        except:\n",
    "            print(url)\n",
    "dfFinal = pd.concat(salida6)\n",
    "dfFinal.to_csv(\"asistenciasPasivos_consolidado.csv\", index = False)"
   ]
  },
  {
   "cell_type": "code",
   "execution_count": 7,
   "metadata": {},
   "outputs": [
    {
     "name": "stdout",
     "output_type": "stream",
     "text": [
      "https://www.infolobby.cl/DatosAbiertos/Catalogos/VirtuosoLobby/Datasets/2014/1/representaciones/csv\n",
      "https://www.infolobby.cl/DatosAbiertos/Catalogos/VirtuosoLobby/Datasets/2014/2/representaciones/csv\n",
      "https://www.infolobby.cl/DatosAbiertos/Catalogos/VirtuosoLobby/Datasets/2014/3/representaciones/csv\n",
      "https://www.infolobby.cl/DatosAbiertos/Catalogos/VirtuosoLobby/Datasets/2021/4/representaciones/csv\n"
     ]
    }
   ],
   "source": [
    "salida7 = []\n",
    "for i in range(2014,2022):\n",
    "    for j in range(1,5):\n",
    "        try:\n",
    "            url = f\"https://www.infolobby.cl/DatosAbiertos/Catalogos/VirtuosoLobby/Datasets/{i}/{j}/representaciones/csv\"\n",
    "            dfOut = pd.read_csv(url)\n",
    "            #dfOut.to_excel(f\"activos_{i}_{j}.xlsx\", index = False)\n",
    "            salida7.append(dfOut.copy())\n",
    "        except:\n",
    "            print(url)\n",
    "dfFinal = pd.concat(salida7)\n",
    "dfFinal.to_csv(\"representaciones_consolidado.csv\", index = False)"
   ]
  },
  {
   "cell_type": "code",
   "execution_count": 8,
   "metadata": {},
   "outputs": [
    {
     "name": "stdout",
     "output_type": "stream",
     "text": [
      "https://www.infolobby.cl/DatosAbiertos/Catalogos/VirtuosoLobby/Datasets/2014/1/trabajaPara/csv\n",
      "https://www.infolobby.cl/DatosAbiertos/Catalogos/VirtuosoLobby/Datasets/2014/2/trabajaPara/csv\n",
      "https://www.infolobby.cl/DatosAbiertos/Catalogos/VirtuosoLobby/Datasets/2014/3/trabajaPara/csv\n",
      "https://www.infolobby.cl/DatosAbiertos/Catalogos/VirtuosoLobby/Datasets/2021/4/trabajaPara/csv\n"
     ]
    }
   ],
   "source": [
    "salida8 = []\n",
    "for i in range(2014,2022):\n",
    "    for j in range(1,5):\n",
    "        try:\n",
    "            url = f\"https://www.infolobby.cl/DatosAbiertos/Catalogos/VirtuosoLobby/Datasets/{i}/{j}/trabajaPara/csv\"\n",
    "            dfOut = pd.read_csv(url)\n",
    "            #dfOut.to_excel(f\"activos_{i}_{j}.xlsx\", index = False)\n",
    "            salida8.append(dfOut.copy())\n",
    "        except:\n",
    "            print(url)\n",
    "dfFinal = pd.concat(salida8)\n",
    "dfFinal.to_csv(\"trabajaPara_consolidado.csv\", index = False)"
   ]
  },
  {
   "cell_type": "code",
   "execution_count": 9,
   "metadata": {},
   "outputs": [
    {
     "name": "stdout",
     "output_type": "stream",
     "text": [
      "https://www.infolobby.cl/DatosAbiertos/Catalogos/VirtuosoLobby/Datasets/2014/1/otrosAsistentes/csv\n",
      "https://www.infolobby.cl/DatosAbiertos/Catalogos/VirtuosoLobby/Datasets/2014/2/otrosAsistentes/csv\n",
      "https://www.infolobby.cl/DatosAbiertos/Catalogos/VirtuosoLobby/Datasets/2014/3/otrosAsistentes/csv\n",
      "https://www.infolobby.cl/DatosAbiertos/Catalogos/VirtuosoLobby/Datasets/2021/4/otrosAsistentes/csv\n"
     ]
    }
   ],
   "source": [
    "salida9 = []\n",
    "for i in range(2014,2022):\n",
    "    for j in range(1,5):\n",
    "        try:\n",
    "            url = f\"https://www.infolobby.cl/DatosAbiertos/Catalogos/VirtuosoLobby/Datasets/{i}/{j}/otrosAsistentes/csv\"\n",
    "            dfOut = pd.read_csv(url)\n",
    "            #dfOut.to_excel(f\"activos_{i}_{j}.xlsx\", index = False)\n",
    "            salida9.append(dfOut.copy())\n",
    "        except:\n",
    "            print(url)\n",
    "dfFinal = pd.concat(salida9)\n",
    "dfFinal.to_csv(\"otrosAsistentes_consolidado.csv\", index = False)"
   ]
  },
  {
   "cell_type": "code",
   "execution_count": 10,
   "metadata": {},
   "outputs": [
    {
     "name": "stdout",
     "output_type": "stream",
     "text": [
      "https://www.infolobby.cl/DatosAbiertos/Catalogos/VirtuosoLobby/Datasets/2014/1/viajes/csv\n",
      "https://www.infolobby.cl/DatosAbiertos/Catalogos/VirtuosoLobby/Datasets/2014/2/viajes/csv\n",
      "https://www.infolobby.cl/DatosAbiertos/Catalogos/VirtuosoLobby/Datasets/2014/3/viajes/csv\n"
     ]
    }
   ],
   "source": [
    "salida10 = []\n",
    "for i in range(2014,2022):\n",
    "    for j in range(1,5):\n",
    "        try:\n",
    "            url = f\"https://www.infolobby.cl/DatosAbiertos/Catalogos/VirtuosoLobby/Datasets/{i}/{j}/viajes/csv\"\n",
    "            dfOut = pd.read_csv(url)\n",
    "            #dfOut.to_excel(f\"activos_{i}_{j}.xlsx\", index = False)\n",
    "            salida10.append(dfOut.copy())\n",
    "        except:\n",
    "            print(url)\n",
    "dfFinal = pd.concat(salida10)\n",
    "dfFinal.to_csv(\"viajes_consolidado.csv\", index = False)"
   ]
  },
  {
   "cell_type": "code",
   "execution_count": 11,
   "metadata": {},
   "outputs": [
    {
     "name": "stdout",
     "output_type": "stream",
     "text": [
      "https://www.infolobby.cl/DatosAbiertos/Catalogos/VirtuosoLobby/Datasets/2014/1/donativos/csv\n",
      "https://www.infolobby.cl/DatosAbiertos/Catalogos/VirtuosoLobby/Datasets/2014/2/donativos/csv\n",
      "https://www.infolobby.cl/DatosAbiertos/Catalogos/VirtuosoLobby/Datasets/2014/3/donativos/csv\n",
      "https://www.infolobby.cl/DatosAbiertos/Catalogos/VirtuosoLobby/Datasets/2021/4/donativos/csv\n"
     ]
    }
   ],
   "source": [
    "salida11 = []\n",
    "for i in range(2014,2022):\n",
    "    for j in range(1,5):\n",
    "        try:\n",
    "            url = f\"https://www.infolobby.cl/DatosAbiertos/Catalogos/VirtuosoLobby/Datasets/{i}/{j}/donativos/csv\"\n",
    "            dfOut = pd.read_csv(url)\n",
    "            #dfOut.to_excel(f\"activos_{i}_{j}.xlsx\", index = False)\n",
    "            salida11.append(dfOut.copy())\n",
    "        except:\n",
    "            print(url)\n",
    "dfFinal = pd.concat(salida11)\n",
    "dfFinal.to_csv(\"donativos_consolidado.csv\", index = False)"
   ]
  },
  {
   "cell_type": "code",
   "execution_count": null,
   "metadata": {},
   "outputs": [],
   "source": []
  }
 ],
 "metadata": {
  "kernelspec": {
   "display_name": "Python 3",
   "language": "python",
   "name": "python3"
  },
  "language_info": {
   "codemirror_mode": {
    "name": "ipython",
    "version": 3
   },
   "file_extension": ".py",
   "mimetype": "text/x-python",
   "name": "python",
   "nbconvert_exporter": "python",
   "pygments_lexer": "ipython3",
   "version": "3.8.5"
  }
 },
 "nbformat": 4,
 "nbformat_minor": 4
}
