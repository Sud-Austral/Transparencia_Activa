{
 "cells": [
  {
   "cell_type": "code",
   "execution_count": 1,
   "metadata": {},
   "outputs": [],
   "source": [
    "import pandas as pd"
   ]
  },
  {
   "cell_type": "code",
   "execution_count": 3,
   "metadata": {},
   "outputs": [
    {
     "name": "stderr",
     "output_type": "stream",
     "text": [
      "C:\\Users\\gusti\\anaconda3\\lib\\site-packages\\IPython\\core\\interactiveshell.py:3146: DtypeWarning: Columns (9) have mixed types.Specify dtype option on import or set low_memory=False.\n",
      "  has_raised = await self.run_ast_nodes(code_ast.body, cell_name,\n"
     ]
    }
   ],
   "source": [
    "dfDato7 = pd.read_csv(r\"http://www.cplt.cl/transparencia_activa/datoabierto/archivos/TA_Otras_transferencias.csv\", encoding = \"ISO-8859-1\", sep=\";\")"
   ]
  },
  {
   "cell_type": "code",
   "execution_count": 4,
   "metadata": {},
   "outputs": [],
   "source": [
    "dfDato7[\"Año\"] = dfDato7[\"fecha\"].apply(lambda x: str(x)[0:4])"
   ]
  },
  {
   "cell_type": "code",
   "execution_count": 5,
   "metadata": {},
   "outputs": [],
   "source": [
    "dfDato7Clean =dfDato7.drop(columns = ['fecha_publicacion_ta', 'anyo','fecha'])"
   ]
  },
  {
   "cell_type": "code",
   "execution_count": 6,
   "metadata": {},
   "outputs": [],
   "source": [
    "dfGroup7 = dfDato7Clean.groupby(['organismo_nombre', 'organismo_codigo',  'Mes', 'denominacion', \n",
    "           'Tipo Unidad monetaria', 'imputacion_presupuestaria', 'objeto_transferencia', 'razon_social',\n",
    "           'Nombre persona', 'apellido_paterno', 'apellido_materno', 'activado', 'Año']).sum()\n",
    "dfGroup7 = dfGroup7.reset_index()"
   ]
  },
  {
   "cell_type": "code",
   "execution_count": 7,
   "metadata": {},
   "outputs": [],
   "source": [
    "dfPivot7 = dfGroup7.pivot( index=[ 'organismo_nombre', 'organismo_codigo', 'denominacion',\n",
    "           'Tipo Unidad monetaria', \n",
    "            'imputacion_presupuestaria', 'objeto_transferencia', 'razon_social',\n",
    "           'Nombre persona', 'apellido_paterno', 'apellido_materno', 'activado','Año'], columns=['Mes'], values='monto')\n",
    "dfPivot7 = dfPivot7.reset_index()"
   ]
  },
  {
   "cell_type": "code",
   "execution_count": 8,
   "metadata": {},
   "outputs": [],
   "source": [
    "for i in dfPivot7[\"Año\"].unique():\n",
    "    dfAux = dfPivot7[dfPivot7[\"Año\"] == i]\n",
    "    dfAux.to_excel(f\"TA_Otras_transferencias/TA_Otras_transferencias_{i}.xlsx\", index=False)"
   ]
  },
  {
   "cell_type": "code",
   "execution_count": null,
   "metadata": {},
   "outputs": [],
   "source": []
  }
 ],
 "metadata": {
  "kernelspec": {
   "display_name": "Python 3",
   "language": "python",
   "name": "python3"
  },
  "language_info": {
   "codemirror_mode": {
    "name": "ipython",
    "version": 3
   },
   "file_extension": ".py",
   "mimetype": "text/x-python",
   "name": "python",
   "nbconvert_exporter": "python",
   "pygments_lexer": "ipython3",
   "version": "3.8.5"
  }
 },
 "nbformat": 4,
 "nbformat_minor": 4
}
